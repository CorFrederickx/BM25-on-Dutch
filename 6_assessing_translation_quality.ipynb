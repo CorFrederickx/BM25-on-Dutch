{
 "cells": [
  {
   "cell_type": "markdown",
   "id": "7ddd8664",
   "metadata": {},
   "source": [
    "## Assessing translation quality"
   ]
  },
  {
   "cell_type": "markdown",
   "id": "d0b6b37b",
   "metadata": {},
   "source": [
    "In this notebook, we assess the quality of the translated queries from two perspectives: semantic equivalence and vocabulary overlap."
   ]
  },
  {
   "cell_type": "code",
   "execution_count": null,
   "id": "9543b879",
   "metadata": {},
   "outputs": [],
   "source": [
    "import pandas as pd\n",
    "import numpy as np"
   ]
  },
  {
   "cell_type": "markdown",
   "id": "48396580",
   "metadata": {},
   "source": [
    "## Semantic analysis\n",
    "\n",
    "We first perform a semantic analysis on 200 query–translation pairs. For each pair, we ask Gemini whether the query and its translation are semantically equivalent. Based on Gemini's assessments, we manually inspect the pairs with problematic translations."
   ]
  },
  {
   "cell_type": "code",
   "execution_count": null,
   "id": "172e955c",
   "metadata": {},
   "outputs": [],
   "source": [
    "# load the documents with the translated queries\n",
    "stratified_sample = pd.read_csv('data/stratified_sample_with_translated_queries.csv')"
   ]
  },
  {
   "cell_type": "code",
   "execution_count": null,
   "id": "f9a493ee",
   "metadata": {},
   "outputs": [],
   "source": [
    "stratified_sample = stratified_sample.sample(n=200, ignore_index=True)"
   ]
  },
  {
   "cell_type": "code",
   "execution_count": 23,
   "id": "4a451774",
   "metadata": {},
   "outputs": [],
   "source": [
    "english_master_prompt = \"\"\"\n",
    "\n",
    "You are a native English speaker with a deep understanding of semantic meaning.\n",
    "\n",
    "Task:\n",
    "    Decide whether two queries express the same underlying information need for retrieving core content from the document.\n",
    "\n",
    "Provided search queries:\n",
    "    Original English query: {query}\n",
    "    English query translated from Dutch: {translation}\n",
    "\n",
    "Provided context:\n",
    "    The English document: {text}\n",
    "\n",
    "Only provide a response in the following format:\n",
    "    Score: <a score on a scale from 0 to 10>\n",
    "\n",
    "- 10 if they are semantically equivalent in this context.\n",
    "- 0 if they differ significantly in intent or focus.\n",
    "\n",
    "\"\"\""
   ]
  },
  {
   "cell_type": "code",
   "execution_count": 24,
   "id": "a63df426",
   "metadata": {},
   "outputs": [],
   "source": [
    "dutch_master_prompt = \"\"\"\n",
    "\n",
    "You are a native Dutch speaker with a deep understanding of semantic meaning.\n",
    "\n",
    "Task:\n",
    "    Decide whether two queries express the same underlying information need for retrieving core content from the document.\n",
    "\n",
    "Provided search queries:\n",
    "    Original Dutch query: {query}\n",
    "    Dutch query translated from English: {translation}\n",
    "\n",
    "Provided context:\n",
    "    The Dutch document: {text}\n",
    "\n",
    "Only provide a response in the following format:\n",
    "    Score: <a score on a scale from 0 to 10>\n",
    "\n",
    "- 10 if they are semantically equivalent in this context.\n",
    "- 0 if they differ significantly in intent or focus.\n",
    "\n",
    "\"\"\""
   ]
  },
  {
   "cell_type": "code",
   "execution_count": null,
   "id": "a5845104",
   "metadata": {},
   "outputs": [],
   "source": [
    "stratified_sample['prompt_en'] = english_master_prompt\n",
    "stratified_sample['prompt_nl'] = dutch_master_prompt"
   ]
  },
  {
   "cell_type": "code",
   "execution_count": null,
   "id": "75707457",
   "metadata": {},
   "outputs": [],
   "source": [
    "import time \n",
    "from google import genai\n",
    "import google.generativeai as genai\n",
    "import keys  # store your own key in the file keys.py\n",
    "\n",
    "api_key = keys.GEMINI_API_KEY\n",
    "\n",
    "if not api_key:\n",
    "    raise ValueError(\"Gemini API key not found in keys.py.\")\n",
    "\n",
    "genai.configure(api_key=api_key)\n",
    "\n",
    "# Select the Gemini model\n",
    "model_name = \"gemini-2.0-flash-lite\"\n",
    "\n",
    "model = genai.GenerativeModel(model_name)"
   ]
  },
  {
   "cell_type": "code",
   "execution_count": null,
   "id": "26531435",
   "metadata": {},
   "outputs": [],
   "source": [
    "def get_raw_response(query, translation, text, prompt_template):\n",
    "\n",
    "    prompt = prompt_template.format(query=query, translation=translation, text=text)\n",
    "\n",
    "    try:\n",
    "        response = model.generate_content(prompt,\n",
    "                                          generation_config = genai.types.GenerationConfig(temperature=0.2) \n",
    "        )\n",
    "        return response \n",
    "    \n",
    "    except Exception as e:\n",
    "        print(f\"Error in get_raw_response: {e}\") \n",
    "        return None"
   ]
  },
  {
   "cell_type": "code",
   "execution_count": null,
   "id": "7fb09598",
   "metadata": {},
   "outputs": [],
   "source": [
    "# wrapper around get_raw_response function\n",
    "\n",
    "def semantic_analysis(query, translation, text, prompt_template):\n",
    "\n",
    "    response = get_raw_response(query, translation, text, prompt_template)  # calls the function\n",
    "\n",
    "    if response is None:\n",
    "        return \"Error: No response from the API\"  # handle the case where the API call failed\n",
    "    \n",
    "    try:\n",
    "        return int(response.text.strip().split(\":\", 1)[1])\n",
    "    except Exception as e:\n",
    "        return str(e)"
   ]
  },
  {
   "cell_type": "code",
   "execution_count": null,
   "id": "2c6af408",
   "metadata": {},
   "outputs": [],
   "source": [
    "# translate queries in both languages and put them in new columns\n",
    "\n",
    "# empty lists to store the results\n",
    "english_scores = []\n",
    "dutch_scores = []\n",
    "\n",
    "for idx, row in stratified_sample.iterrows():\n",
    "    score = semantic_analysis(row['query_en'], row['translation_en'], row['text_en'], row['prompt_en'])\n",
    "    english_scores.append(score)\n",
    "    \n",
    "    # sleep for 2 seconds to maintain max 30 requests/minute rate limit\n",
    "    time.sleep(2)\n",
    "\n",
    "for idx, row in stratified_sample.iterrows():\n",
    "    score = semantic_analysis(row['query_nl'], row['translation_nl'], row['text_nl'], row['prompt_nl'])\n",
    "    dutch_scores.append(score)\n",
    "    \n",
    "    # sleep for 2 seconds to maintain max 30 requests/minute rate limit\n",
    "    time.sleep(2)\n",
    "\n",
    "# add the results to the dataframe\n",
    "stratified_sample[\"english_scores\"] = english_scores\n",
    "stratified_sample[\"dutch_scores\"] = dutch_scores"
   ]
  },
  {
   "cell_type": "code",
   "execution_count": null,
   "id": "a4984ac5",
   "metadata": {},
   "outputs": [
    {
     "name": "stdout",
     "output_type": "stream",
     "text": [
      "9.765\n",
      "9.605\n"
     ]
    }
   ],
   "source": [
    "# both languages score very high, it looks like the same information need is captured by the translations\n",
    "\n",
    "print(stratified_sample.english_scores.mean())\n",
    "print(stratified_sample.dutch_scores.mean())"
   ]
  },
  {
   "cell_type": "code",
   "execution_count": null,
   "id": "c3deb143",
   "metadata": {},
   "outputs": [],
   "source": [
    "bad_trans = stratified_sample[stratified_sample['english_scores'] == 0]"
   ]
  },
  {
   "cell_type": "code",
   "execution_count": null,
   "id": "84cf9086",
   "metadata": {},
   "outputs": [
    {
     "name": "stdout",
     "output_type": "stream",
     "text": [
      "No action on tenders for common wheat export?\n",
      "\n",
      "No action on tenders for soft wheat export?\n",
      "\n",
      "\n",
      "Geen gevolg aan offertes voor zachte tarwe uitvoer?\n",
      "\n",
      "Geen actie op offertes voor export van zachte tarwe?\n",
      "\n",
      "\n",
      "\n",
      "What specific actions did the European Commission take in response to the Hellenic Republic's transitional national plan concerning industrial emissions, and what aspects of the plan did the Commission assess to determine its compliance with relevant directives and decisions?\n",
      "\n",
      "What specific actions did the European Commission take in response to the Dutch search query?\n",
      "\n",
      "\n",
      "Welke specifieke acties heeft de Europese Commissie ondernomen naar aanleiding van het nationale plan voor de overgangsfase van de Helleense Republiek betreffende industriële emissies, en welke aspecten van het plan heeft de Commissie beoordeeld om de naleving ervan met de relevante richtlijnen en besluiten vast te stellen?\n",
      "\n",
      "Welke specifieke acties heeft de Europese Commissie ondernomen naar aanleiding van de Engelse zoekopdracht?\n",
      "\n",
      "\n",
      "\n",
      "Did the Commission of the European Communities issue a regulation on April 5, 2005, that fixes standard import values for determining the entry price of certain fruit and vegetables, according to the document's title?\n",
      "\n",
      "Does the Dutch search query relate to the title of a document, and if so, what is the content of the title?\n",
      "\n",
      "\n",
      "Heeft de Commissie van de Europese Gemeenschappen op 5 april 2005 een verordening uitgevaardigd die forfaitaire invoerwaarden vaststelt voor de bepaling van de invoerprijzen van bepaalde soorten groenten en fruit, zoals blijkt uit de titel?\n",
      "\n",
      "Heeft de Engelse zoekopdracht betrekking op de titel van een document, en zo ja, wat is de inhoud van de titel?\n",
      "\n",
      "\n",
      "\n",
      "Did the United Kingdom issue import licenses on October 21, 2004, for beef and veal products originating in Botswana, Swaziland, and Namibia, as boned meat, according to the provided document?\n",
      "\n",
      "Did the United Kingdom issue import licenses on October 21, 2004, for beef and veal products originating from Botswana, Swaziland, and Namibia, as boneless meat, according to the provided document?\n",
      "\n",
      "\n",
      "Werden er volgens het document op 21 oktober 2004 door het Verenigd Koninkrijk invoercertificaten afgegeven voor rundvleesproducten van oorsprong uit Botswana, Swaziland en Namibië, uitgedrukt in vlees zonder been?\n",
      "\n",
      "Heeft het Verenigd Koninkrijk op 21 oktober 2004 invoervergunningen afgegeven voor rund- en kalfsvleesproducten afkomstig uit Botswana, Swaziland en Namibië, als vlees zonder been, volgens het verstrekte document?\n",
      "\n",
      "\n",
      "\n",
      "What duty was imposed on Moravske?\n",
      "\n",
      "Which code was replaced in article 1?\n",
      "\n",
      "\n",
      "Welke code is vervangen in artikel 1?\n",
      "\n",
      "Welke plicht werd opgelegd aan Moravske?\n",
      "\n",
      "\n",
      "\n"
     ]
    }
   ],
   "source": [
    "# manual check of the bad translations\n",
    "\n",
    "for row in bad_trans.values:\n",
    "    print(row[7])\n",
    "    print()\n",
    "    print(row[11])\n",
    "    print()\n",
    "    print()\n",
    "    print(row[8])\n",
    "    print()\n",
    "    print(row[12])\n",
    "    print()\n",
    "    print()\n",
    "    print()"
   ]
  },
  {
   "cell_type": "markdown",
   "id": "ef8f3eea",
   "metadata": {},
   "source": [
    "## Vocabulary analysis\n",
    "\n",
    "In addition to semantic evaluation, we analyze how closely the translations match the source queries in terms of vocabulary. For this purpose we use metrics such as length ratio, type token ratio, Levenshtein distance and Jaccard similarity."
   ]
  },
  {
   "cell_type": "code",
   "execution_count": null,
   "id": "33a4bea6",
   "metadata": {},
   "outputs": [],
   "source": [
    "# load the documents with the translated queries again, to analyse the vocabulary consistency\n",
    "\n",
    "stratified_sample = pd.read_csv('data/stratified_sample_with_translated_queries.csv')"
   ]
  },
  {
   "cell_type": "code",
   "execution_count": null,
   "id": "542dfbb2",
   "metadata": {},
   "outputs": [
    {
     "name": "stderr",
     "output_type": "stream",
     "text": [
      "[nltk_data] Downloading package punkt to\n",
      "[nltk_data]     /Users/corfrederickx/nltk_data...\n",
      "[nltk_data]   Package punkt is already up-to-date!\n"
     ]
    }
   ],
   "source": [
    "# same preprocessing function as used before applying BM25\n",
    "# so the resulting scores will more accurately reflect the “vocabulary overlap” as BM25 understands it.\n",
    "\n",
    "import string\n",
    "import nltk\n",
    "from nltk.tokenize import word_tokenize\n",
    "\n",
    "nltk.download('punkt')\n",
    "\n",
    "def preprocess_columns(column):\n",
    "    # Lowercase and remove punctuation using vectorized string methods\n",
    "    clean_series = column.str.lower().str.translate(str.maketrans('', '', string.punctuation))\n",
    "    # Tokenize using nltk's word_tokenize\n",
    "    return clean_series.apply(word_tokenize)"
   ]
  },
  {
   "cell_type": "code",
   "execution_count": null,
   "id": "e3917055",
   "metadata": {},
   "outputs": [],
   "source": [
    "# length ratio for English\n",
    "\n",
    "stratified_sample[\"len_orig_en\"] = preprocess_columns(stratified_sample[\"query_en\"]).str.len()\n",
    "stratified_sample[\"len_trans_en\"] = preprocess_columns(stratified_sample[\"translation_en\"]).str.len()\n",
    "stratified_sample[\"len_ratio_en\"] = stratified_sample[\"len_trans_en\"] / stratified_sample[\"len_orig_en\"]"
   ]
  },
  {
   "cell_type": "code",
   "execution_count": null,
   "id": "a64223e7",
   "metadata": {},
   "outputs": [],
   "source": [
    "# length ratio for Dutch\n",
    "\n",
    "stratified_sample[\"len_orig_nl\"] = preprocess_columns(stratified_sample[\"query_nl\"]).str.len()\n",
    "stratified_sample[\"len_trans_nl\"] = preprocess_columns(stratified_sample[\"translation_nl\"]).str.len()\n",
    "stratified_sample[\"len_ratio_nl\"] = stratified_sample[\"len_trans_nl\"] / stratified_sample[\"len_orig_nl\"]"
   ]
  },
  {
   "cell_type": "code",
   "execution_count": null,
   "id": "4460fc66",
   "metadata": {},
   "outputs": [
    {
     "name": "stdout",
     "output_type": "stream",
     "text": [
      "0.9942130154072082\n",
      "1.0327988458229809\n",
      "1.0\n",
      "1.0\n"
     ]
    }
   ],
   "source": [
    "print(stratified_sample.len_ratio_en.mean())\n",
    "print(stratified_sample.len_ratio_nl.mean())\n",
    "\n",
    "print(stratified_sample.len_ratio_en.median())\n",
    "print(stratified_sample.len_ratio_nl.median())"
   ]
  },
  {
   "cell_type": "code",
   "execution_count": null,
   "id": "2238cde1",
   "metadata": {},
   "outputs": [
    {
     "name": "stdout",
     "output_type": "stream",
     "text": [
      "English comparison\n",
      "mean:\n",
      "0.8464257077669312\n",
      "0.8425547957542449\n",
      "\n",
      "median:\n",
      "0.850531914893617\n",
      "0.8461538461538461\n",
      "\n",
      "Dutch comparison\n",
      "mean:\n",
      "0.8390118706027597\n",
      "0.8471200103180401\n",
      "\n",
      "median:\n",
      "0.8333333333333334\n",
      "0.8461538461538461\n"
     ]
    }
   ],
   "source": [
    "# Type Token Ratio\n",
    "\n",
    "def ttr(text):\n",
    "    tokens = word_tokenize(text.lower().translate(str.maketrans('', '', string.punctuation)))\n",
    "    return len(set(tokens)) / len(tokens) if tokens else 0\n",
    "\n",
    "stratified_sample[\"ttr_orig_en\"] = stratified_sample[\"query_en\"].apply(ttr)\n",
    "stratified_sample[\"ttr_trans_en\"] = stratified_sample[\"translation_en\"].apply(ttr)\n",
    "\n",
    "print('English comparison')\n",
    "print('mean:')\n",
    "print(stratified_sample[\"ttr_orig_en\"].mean())\n",
    "print(stratified_sample[\"ttr_trans_en\"].mean())\n",
    "print()\n",
    "print('median:')\n",
    "print(stratified_sample[\"ttr_orig_en\"].median())\n",
    "print(stratified_sample[\"ttr_trans_en\"].median())\n",
    "\n",
    "stratified_sample[\"ttr_orig_nl\"] = stratified_sample[\"query_nl\"].apply(ttr)\n",
    "stratified_sample[\"ttr_trans_nl\"] = stratified_sample[\"translation_nl\"].apply(ttr)\n",
    "\n",
    "print()\n",
    "print('Dutch comparison')\n",
    "print('mean:')\n",
    "print(stratified_sample[\"ttr_orig_nl\"].mean())\n",
    "print(stratified_sample[\"ttr_trans_nl\"].mean())\n",
    "print()\n",
    "print('median:')\n",
    "print(stratified_sample[\"ttr_orig_nl\"].median())\n",
    "print(stratified_sample[\"ttr_trans_nl\"].median())"
   ]
  },
  {
   "cell_type": "code",
   "execution_count": null,
   "id": "b1934782",
   "metadata": {},
   "outputs": [
    {
     "name": "stdout",
     "output_type": "stream",
     "text": [
      "Collecting Levenshtein\n",
      "  Downloading levenshtein-0.27.1-cp312-cp312-macosx_10_13_x86_64.whl.metadata (3.6 kB)\n",
      "Requirement already satisfied: rapidfuzz<4.0.0,>=3.9.0 in /opt/anaconda3/lib/python3.12/site-packages (from Levenshtein) (3.10.0)\n",
      "Downloading levenshtein-0.27.1-cp312-cp312-macosx_10_13_x86_64.whl (173 kB)\n",
      "Installing collected packages: Levenshtein\n",
      "Successfully installed Levenshtein-0.27.1\n"
     ]
    }
   ],
   "source": [
    "!pip install Levenshtein"
   ]
  },
  {
   "cell_type": "code",
   "execution_count": null,
   "id": "05fc6032",
   "metadata": {},
   "outputs": [
    {
     "name": "stdout",
     "output_type": "stream",
     "text": [
      "mean:\n",
      "English: 0.17914668681648183\n",
      "Dutch: 0.2935508862302427\n",
      "\n",
      "median:\n",
      "English: 0.08385695956837846\n",
      "Dutch: 0.25525785769881965\n"
     ]
    }
   ],
   "source": [
    "# Levenshtein distance, gives a sense of the rewriting effort that is done. Measured on the character level so no tokenization required\n",
    "\n",
    "import Levenshtein as lev\n",
    "\n",
    "def norm_lev(a, b):\n",
    "    return lev.distance(a, b) / max(len(a), len(b))\n",
    "\n",
    "stratified_sample[\"lev_dist_norm_en\"] = stratified_sample.apply(lambda r: norm_lev(r.query_en, r.translation_en), axis=1)\n",
    "stratified_sample[\"lev_dist_norm_nl\"] = stratified_sample.apply(lambda r: norm_lev(r.query_nl, r.translation_nl), axis=1)\n",
    "\n",
    "print('mean:')\n",
    "print(f'English: {stratified_sample.lev_dist_norm_en.mean()}')\n",
    "print(f'Dutch: {stratified_sample.lev_dist_norm_nl.mean()}')\n",
    "print()\n",
    "print('median:')\n",
    "print(f'English: {stratified_sample.lev_dist_norm_en.median()}')\n",
    "print(f'Dutch: {stratified_sample.lev_dist_norm_nl.median()}')\n"
   ]
  },
  {
   "cell_type": "code",
   "execution_count": null,
   "id": "fa116a6f",
   "metadata": {},
   "outputs": [
    {
     "name": "stdout",
     "output_type": "stream",
     "text": [
      "mean:\n",
      "English: 0.7816351460738077\n",
      "Dutch: 0.6069158171652285\n",
      "\n",
      "median:\n",
      "English: 0.8588039867109634\n",
      "Dutch: 0.6363636363636364\n"
     ]
    }
   ],
   "source": [
    "# Jaccard similarity. Measures the proportion of shared types in the union of both queries (original and translated). How much lexical overlap is there?\n",
    "\n",
    "def jaccard(a, b):\n",
    "    ta, tb = set(word_tokenize(a.lower().translate(str.maketrans('', '', string.punctuation)))), set(word_tokenize(b.lower().translate(str.maketrans('', '', string.punctuation))))\n",
    "    if not ta and not tb:\n",
    "        return 1.0  # both empty\n",
    "    return len(ta & tb) / len(ta | tb)\n",
    "\n",
    "stratified_sample[\"jaccard_en\"] = stratified_sample.apply(lambda r: jaccard(r.query_en, r.translation_en), axis=1)\n",
    "stratified_sample[\"jaccard_nl\"] = stratified_sample.apply(lambda r: jaccard(r.query_nl, r.translation_nl), axis=1)\n",
    "\n",
    "print('mean:')\n",
    "print(f'English: {stratified_sample.jaccard_en.mean()}')\n",
    "print(f'Dutch: {stratified_sample.jaccard_nl.mean()}')\n",
    "print()\n",
    "print('median:')\n",
    "print(f'English: {stratified_sample.jaccard_en.median()}')\n",
    "print(f'Dutch: {stratified_sample.jaccard_nl.median()}')"
   ]
  },
  {
   "cell_type": "code",
   "execution_count": null,
   "id": "65fe264c",
   "metadata": {},
   "outputs": [],
   "source": [
    "# on average about 60 percent of the unique tokens in an orginial Dutch query and its translation overlap.\n",
    "# whether this will impact BM25 depends on what kind of words the 39 percent of non-overlapping words belong to. \n",
    "# If they are key content words (rare, high IDF words), BM25 will suffer, while it is robust to a few missing stopwords"
   ]
  },
  {
   "cell_type": "code",
   "execution_count": null,
   "id": "cee0556b",
   "metadata": {},
   "outputs": [
    {
     "name": "stderr",
     "output_type": "stream",
     "text": [
      "[nltk_data] Downloading package punkt to\n",
      "[nltk_data]     /Users/corfrederickx/nltk_data...\n",
      "[nltk_data]   Package punkt is already up-to-date!\n",
      "[nltk_data] Downloading package stopwords to\n",
      "[nltk_data]     /Users/corfrederickx/nltk_data...\n",
      "[nltk_data]   Package stopwords is already up-to-date!\n"
     ]
    },
    {
     "name": "stdout",
     "output_type": "stream",
     "text": [
      "mean:\n",
      "English (no stopwords): 0.767845400306925\n",
      "Dutch  (no stopwords): 0.5676272566487954\n",
      "\n",
      "median:\n",
      "English (no stopwords): 0.8591269841269842\n",
      "Dutch  (no stopwords): 0.5841194968553459\n"
     ]
    }
   ],
   "source": [
    "# Jaccard similarity after removing stopwords\n",
    "\n",
    "import string\n",
    "import nltk\n",
    "from nltk.tokenize import word_tokenize\n",
    "from nltk.corpus import stopwords\n",
    "\n",
    "nltk.download('punkt')\n",
    "nltk.download('stopwords')\n",
    "\n",
    "stop_en = set(stopwords.words('english'))\n",
    "stop_nl = set(stopwords.words('dutch'))\n",
    "\n",
    "# tokenizer that also drops stopwords\n",
    "def tokenize(text, lang):\n",
    "    cleaned = text.lower().translate(str.maketrans('', '', string.punctuation))\n",
    "    tokens  = word_tokenize(cleaned)\n",
    "    stops   = stop_en if lang == 'en' else stop_nl\n",
    "    return [t for t in tokens if t not in stops]\n",
    "\n",
    "def jaccard(a, b, lang):\n",
    "    ta, tb = set(tokenize(a, lang)), set(tokenize(b, lang))\n",
    "    if not ta and not tb:\n",
    "        return 1.0\n",
    "    return len(ta & tb) / len(ta | tb)\n",
    "\n",
    "# 4) apply to your DataFrame\n",
    "stratified_sample[\"jaccard_en_nostop\"] = stratified_sample.apply(\n",
    "    lambda r: jaccard(r.query_en,       r.translation_en, 'en'), axis=1\n",
    ")\n",
    "stratified_sample[\"jaccard_nl_nostop\"] = stratified_sample.apply(\n",
    "    lambda r: jaccard(r.query_nl,       r.translation_nl, 'nl'), axis=1\n",
    ")\n",
    "\n",
    "print('mean:')\n",
    "print('English (no stopwords):',   stratified_sample.jaccard_en_nostop.mean())\n",
    "print('Dutch  (no stopwords):',    stratified_sample.jaccard_nl_nostop.mean())\n",
    "print()\n",
    "print('median:')\n",
    "print('English (no stopwords):', stratified_sample.jaccard_en_nostop.median())\n",
    "print('Dutch  (no stopwords):',  stratified_sample.jaccard_nl_nostop.median())\n"
   ]
  },
  {
   "cell_type": "code",
   "execution_count": null,
   "id": "a3447364",
   "metadata": {},
   "outputs": [],
   "source": [
    "# scores go down in both languages, but in Dutch, dropping stopwords has a much larger effect.\n",
    "# For English, most of your Jaccard overlap comes from content words—not just from shared “the”, “of”, etc. Even after removing stops, queries still share about 77 % of their content tokens on average.\n",
    "\n",
    "# For Dutch, a larger chunk of the previous overlap was just stopwords. \n",
    "# Once you strip those out, the average content‐word overlap drops: only 57 % of unique Dutch content tokens appear to coincide between original and translation.\n",
    "# and content tokens are essential for BM25, this explains the significant drop. "
   ]
  },
  {
   "cell_type": "code",
   "execution_count": null,
   "id": "f276c231",
   "metadata": {},
   "outputs": [
    {
     "name": "stdout",
     "output_type": "stream",
     "text": [
      "English similarity with original query:\n",
      "English mean: 0.10260915217643148\n",
      "English median: 0.09791615009504917\n",
      "\n",
      "English similarity with translated query:\n",
      "English mean: 0.09708001416581169\n",
      "English median: 0.09397805977780876\n",
      "\n",
      "\n",
      "Dutch similarity with original query:\n",
      "Dutch mean: 0.10182732952414085\n",
      "Dutch median: 0.09451682176091625\n",
      "\n",
      "Dutch similarity with translated query:\n",
      "Dutch mean: 0.08549936408294008\n",
      "Dutch median: 0.08070254786672698\n"
     ]
    }
   ],
   "source": [
    "# We try Jaccard another time, but this time compare the jaccard similarity between document-originial query and document-translated query\n",
    "\n",
    "def jaccard(a, b):\n",
    "    ta, tb = set(word_tokenize(a.lower().translate(str.maketrans('', '', string.punctuation)))), set(word_tokenize(b.lower().translate(str.maketrans('', '', string.punctuation))))\n",
    "    if not ta and not tb:\n",
    "        return 1.0  # both empty\n",
    "    return len(ta & tb) / len(ta | tb)\n",
    "\n",
    "stratified_sample[\"jaccard_en_doc_original\"] = stratified_sample.apply(lambda r: jaccard(r.text_en, r.query_en), axis=1)\n",
    "stratified_sample[\"jaccard_nl_doc_original\"] = stratified_sample.apply(lambda r: jaccard(r.text_nl, r.query_nl), axis=1)\n",
    "\n",
    "stratified_sample[\"jaccard_en_doc_translation\"] = stratified_sample.apply(lambda r: jaccard(r.text_en, r.translation_en), axis=1)\n",
    "stratified_sample[\"jaccard_nl_doc_translation\"] = stratified_sample.apply(lambda r: jaccard(r.text_nl, r.translation_nl), axis=1)\n",
    "\n",
    "print('English similarity with original query:')\n",
    "print(f'English mean: {stratified_sample.jaccard_en_doc_original.mean()}')\n",
    "print(f'English median: {stratified_sample.jaccard_en_doc_original.median()}')\n",
    "print()\n",
    "print('English similarity with translated query:')\n",
    "print(f'English mean: {stratified_sample.jaccard_en_doc_translation.mean()}')\n",
    "print(f'English median: {stratified_sample.jaccard_en_doc_translation.median()}')\n",
    "print()\n",
    "print()\n",
    "print('Dutch similarity with original query:')\n",
    "print(f'Dutch mean: {stratified_sample.jaccard_nl_doc_original.mean()}')\n",
    "print(f'Dutch median: {stratified_sample.jaccard_nl_doc_original.median()}')\n",
    "print()\n",
    "print('Dutch similarity with translated query:')\n",
    "print(f'Dutch mean: {stratified_sample.jaccard_nl_doc_translation.mean()}')\n",
    "print(f'Dutch median: {stratified_sample.jaccard_nl_doc_translation.median()}')\n"
   ]
  },
  {
   "cell_type": "code",
   "execution_count": null,
   "id": "f9e4e084",
   "metadata": {},
   "outputs": [
    {
     "name": "stderr",
     "output_type": "stream",
     "text": [
      "[nltk_data] Downloading package punkt to\n",
      "[nltk_data]     /Users/corfrederickx/nltk_data...\n",
      "[nltk_data]   Package punkt is already up-to-date!\n",
      "[nltk_data] Downloading package stopwords to\n",
      "[nltk_data]     /Users/corfrederickx/nltk_data...\n",
      "[nltk_data]   Package stopwords is already up-to-date!\n"
     ]
    },
    {
     "name": "stdout",
     "output_type": "stream",
     "text": [
      "English similarity with original query:\n",
      "English mean: 0.07978904748757899\n",
      "English median: 0.06976744186046512\n",
      "\n",
      "English similarity with translated query:\n",
      "English mean: 0.07374993369404555\n",
      "English median: 0.06487493987493986\n",
      "\n",
      "\n",
      "Dutch similarity with original query:\n",
      "Dutch mean: 0.06963871523354807\n",
      "Dutch median: 0.058394160583941604\n",
      "\n",
      "Dutch similarity with translated query:\n",
      "Dutch mean: 0.05238363717897916\n",
      "Dutch median: 0.044642857142857144\n"
     ]
    }
   ],
   "source": [
    "# and without stopwords\n",
    "\n",
    "import string\n",
    "import nltk\n",
    "from nltk.tokenize import word_tokenize\n",
    "from nltk.corpus import stopwords\n",
    "\n",
    "nltk.download('punkt')\n",
    "nltk.download('stopwords')\n",
    "\n",
    "stop_en = set(stopwords.words('english'))\n",
    "stop_nl = set(stopwords.words('dutch'))\n",
    "\n",
    "# tokenizer that also drops stopwords\n",
    "def tokenize(text, lang):\n",
    "    cleaned = text.lower().translate(str.maketrans('', '', string.punctuation))\n",
    "    tokens  = word_tokenize(cleaned)\n",
    "    stops   = stop_en if lang == 'en' else stop_nl\n",
    "    return [t for t in tokens if t not in stops]\n",
    "\n",
    "def jaccard(a, b, lang):\n",
    "    ta, tb = set(tokenize(a, lang)), set(tokenize(b, lang))\n",
    "    if not ta and not tb:\n",
    "        return 1.0\n",
    "    return len(ta & tb) / len(ta | tb)\n",
    "\n",
    "stratified_sample[\"jaccard_en_doc_original\"] = stratified_sample.apply(lambda r: jaccard(r.text_en, r.query_en, 'en'), axis=1)\n",
    "stratified_sample[\"jaccard_nl_doc_original\"] = stratified_sample.apply(lambda r: jaccard(r.text_nl, r.query_nl, 'nl'), axis=1)\n",
    "\n",
    "stratified_sample[\"jaccard_en_doc_translation\"] = stratified_sample.apply(lambda r: jaccard(r.text_en, r.translation_en, 'en'), axis=1)\n",
    "stratified_sample[\"jaccard_nl_doc_translation\"] = stratified_sample.apply(lambda r: jaccard(r.text_nl, r.translation_nl, 'nl'), axis=1)\n",
    "\n",
    "print('English similarity with original query:')\n",
    "print(f'English mean: {stratified_sample.jaccard_en_doc_original.mean()}')\n",
    "print(f'English median: {stratified_sample.jaccard_en_doc_original.median()}')\n",
    "print()\n",
    "print('English similarity with translated query:')\n",
    "print(f'English mean: {stratified_sample.jaccard_en_doc_translation.mean()}')\n",
    "print(f'English median: {stratified_sample.jaccard_en_doc_translation.median()}')\n",
    "print()\n",
    "print()\n",
    "print('Dutch similarity with original query:')\n",
    "print(f'Dutch mean: {stratified_sample.jaccard_nl_doc_original.mean()}')\n",
    "print(f'Dutch median: {stratified_sample.jaccard_nl_doc_original.median()}')\n",
    "print()\n",
    "print('Dutch similarity with translated query:')\n",
    "print(f'Dutch mean: {stratified_sample.jaccard_nl_doc_translation.mean()}')\n",
    "print(f'Dutch median: {stratified_sample.jaccard_nl_doc_translation.median()}')"
   ]
  },
  {
   "cell_type": "code",
   "execution_count": null,
   "id": "f1875292",
   "metadata": {},
   "outputs": [
    {
     "data": {
      "image/png": "[encoded data removed]",
      "text/plain": [
       "<Figure size 1000x600 with 1 Axes>"
      ]
     },
     "metadata": {},
     "output_type": "display_data"
    }
   ],
   "source": [
    "# potential visualisation of last two tests\n",
    "\n",
    "import matplotlib.pyplot as plt\n",
    "import numpy as np\n",
    "\n",
    "# Mean similarity values (from your data)\n",
    "mean_original_with_sw = [0.1026, 0.1018]\n",
    "mean_translated_with_sw = [0.0971, 0.0855]\n",
    "mean_original_no_sw = [0.0798, 0.0696]\n",
    "mean_translated_no_sw = [0.0737, 0.0524]\n",
    "\n",
    "# Languages\n",
    "languages = ['English', 'Dutch']\n",
    "x = np.arange(len(languages))  # the label locations\n",
    "width = 0.2  # width of the bars\n",
    "\n",
    "# Create the figure and axes\n",
    "fig, ax = plt.subplots(figsize=(10, 6))\n",
    "\n",
    "# Create bars for each group\n",
    "bars1 = ax.bar(x - 1.5 * width, mean_original_with_sw, width, label='Original w/ Stopwords')\n",
    "bars2 = ax.bar(x - 0.5 * width, mean_translated_with_sw, width, label='Translated w/ Stopwords')\n",
    "bars3 = ax.bar(x + 0.5 * width, mean_original_no_sw, width, label='Original w/o Stopwords')\n",
    "bars4 = ax.bar(x + 1.5 * width, mean_translated_no_sw, width, label='Translated w/o Stopwords')\n",
    "\n",
    "# Add labels and formatting\n",
    "ax.set_ylabel('Mean Jaccard Similarity')\n",
    "ax.set_title('Jaccard Similarity Between Document and Query Variants')\n",
    "ax.set_xticks(x)\n",
    "ax.set_xticklabels(languages)\n",
    "ax.set_ylim(0, 0.12)\n",
    "ax.legend()\n",
    "\n",
    "# Function to annotate bar values\n",
    "def annotate_bars(bars):\n",
    "    for bar in bars:\n",
    "        height = bar.get_height()\n",
    "        ax.annotate(f'{height:.3f}',\n",
    "                    xy=(bar.get_x() + bar.get_width() / 2, height),\n",
    "                    xytext=(0, 3),\n",
    "                    textcoords=\"offset points\",\n",
    "                    ha='center', va='bottom', fontsize=8)\n",
    "\n",
    "# Annotate all bars\n",
    "for bar_group in [bars1, bars2, bars3, bars4]:\n",
    "    annotate_bars(bar_group)\n",
    "\n",
    "# Layout adjustment\n",
    "plt.tight_layout()\n",
    "plt.show()\n"
   ]
  }
 ],
 "metadata": {
  "kernelspec": {
   "display_name": "base",
   "language": "python",
   "name": "python3"
  },
  "language_info": {
   "codemirror_mode": {
    "name": "ipython",
    "version": 3
   },
   "file_extension": ".py",
   "mimetype": "text/x-python",
   "name": "python",
   "nbconvert_exporter": "python",
   "pygments_lexer": "ipython3",
   "version": "3.12.2"
  }
 },
 "nbformat": 4,
 "nbformat_minor": 5
}
