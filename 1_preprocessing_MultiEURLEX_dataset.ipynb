{
 "cells": [
  {
   "cell_type": "markdown",
   "metadata": {},
   "source": [
    "Preprocessing the [MultiEURLEX dataset](https://huggingface.co/datasets/coastalcph/multi_eurlex)\n",
    "\n",
    "MultiEURLEX comprises 65k EU laws in 23 official EU languages. Each EU law has been annotated with EUROVOC concepts (labels) by the Publication Office of EU."
   ]
  },
  {
   "cell_type": "code",
   "execution_count": null,
   "metadata": {},
   "outputs": [],
   "source": [
    "from datasets import load_dataset, concatenate_datasets\n",
    "import pandas as pd\n",
    "\n",
    "# Load English dataset\n",
    "dataset_en = load_dataset(\"coastalcph/multi_eurlex\", \"en\", trust_remote_code=True)\n",
    "\n",
    "# Load Dutch dataset\n",
    "dataset_nl = load_dataset(\"coastalcph/multi_eurlex\", \"nl\", trust_remote_code=True)\n",
    "\n",
    "# Combine train/test/validation splits for both languages\n",
    "combined_en = concatenate_datasets([dataset_en[split] for split in dataset_en])\n",
    "combined_nl = concatenate_datasets([dataset_nl[split] for split in dataset_nl])\n",
    "\n",
    "# Convert to Pandas DataFrames\n",
    "df1 = pd.DataFrame(combined_en)\n",
    "df2 = pd.DataFrame(combined_nl)\n",
    "\n",
    "# Combine them into the first DataFrame (df1)\n",
    "df1.insert(2, \"text_nl\", df2[\"text\"])\n",
    "df1.rename(columns={\"text\": \"text_en\"}, inplace=True)\n",
    "\n",
    "# Add an extra column with the first item of the EUROVOC labels\n",
    "df1[\"first_label\"] = df1[\"labels\"].apply(lambda x: x[0]) "
   ]
  },
  {
   "cell_type": "code",
   "execution_count": 3,
   "metadata": {},
   "outputs": [
    {
     "data": {
      "text/html": [
       "<div>\n",
       "<style scoped>\n",
       "    .dataframe tbody tr th:only-of-type {\n",
       "        vertical-align: middle;\n",
       "    }\n",
       "\n",
       "    .dataframe tbody tr th {\n",
       "        vertical-align: top;\n",
       "    }\n",
       "\n",
       "    .dataframe thead th {\n",
       "        text-align: right;\n",
       "    }\n",
       "</style>\n",
       "<table border=\"1\" class=\"dataframe\">\n",
       "  <thead>\n",
       "    <tr style=\"text-align: right;\">\n",
       "      <th></th>\n",
       "      <th>celex_id</th>\n",
       "      <th>text_en</th>\n",
       "      <th>text_nl</th>\n",
       "      <th>labels</th>\n",
       "      <th>first_label</th>\n",
       "    </tr>\n",
       "  </thead>\n",
       "  <tbody>\n",
       "    <tr>\n",
       "      <th>0</th>\n",
       "      <td>32006D0213</td>\n",
       "      <td>COMMISSION DECISION\\nof 6 March 2006\\nestablis...</td>\n",
       "      <td>BESCHIKKING VAN DE COMMISSIE\\nvan 6 maart 2006...</td>\n",
       "      <td>[1, 20, 7, 3, 0]</td>\n",
       "      <td>1</td>\n",
       "    </tr>\n",
       "    <tr>\n",
       "      <th>1</th>\n",
       "      <td>32003R1330</td>\n",
       "      <td>Commission Regulation (EC) No 1330/2003\\nof 25...</td>\n",
       "      <td>Verordening (EG) nr. 1330/2003 van de Commissi...</td>\n",
       "      <td>[2, 17]</td>\n",
       "      <td>2</td>\n",
       "    </tr>\n",
       "    <tr>\n",
       "      <th>2</th>\n",
       "      <td>32003R1786</td>\n",
       "      <td>Council Regulation (EC) No 1786/2003\\nof 29 Se...</td>\n",
       "      <td>Verordening (EG) nr. 1786/2003 van de Raad\\nva...</td>\n",
       "      <td>[3, 19, 6]</td>\n",
       "      <td>3</td>\n",
       "    </tr>\n",
       "    <tr>\n",
       "      <th>3</th>\n",
       "      <td>31985R2590</td>\n",
       "      <td>*****\\nCOMMISSION REGULATION (EEC) No 2590/85\\...</td>\n",
       "      <td>*****\\nVERORDENING (EEG) Nr. 2590/85 VAN DE CO...</td>\n",
       "      <td>[12, 17, 19, 6]</td>\n",
       "      <td>12</td>\n",
       "    </tr>\n",
       "    <tr>\n",
       "      <th>4</th>\n",
       "      <td>31993R1103</td>\n",
       "      <td>COMMISSION REGULATION (EEC) No 1103/93 of 30 A...</td>\n",
       "      <td>VERORDENING (EEG) Nr. 1103/93 VAN DE COMMISSIE...</td>\n",
       "      <td>[18, 3, 4, 1]</td>\n",
       "      <td>18</td>\n",
       "    </tr>\n",
       "    <tr>\n",
       "      <th>...</th>\n",
       "      <td>...</td>\n",
       "      <td>...</td>\n",
       "      <td>...</td>\n",
       "      <td>...</td>\n",
       "      <td>...</td>\n",
       "    </tr>\n",
       "    <tr>\n",
       "      <th>64995</th>\n",
       "      <td>32011D0151</td>\n",
       "      <td>COMMISSION DECISION\\nof 3 March 2011\\namending...</td>\n",
       "      <td>BESLUIT VAN DE COMMISSIE\\nvan 3 maart 2011\\nto...</td>\n",
       "      <td>[4, 11, 5, 0, 12, 15]</td>\n",
       "      <td>4</td>\n",
       "    </tr>\n",
       "    <tr>\n",
       "      <th>64996</th>\n",
       "      <td>32010D0256</td>\n",
       "      <td>COMMISSION DECISION\\nof 30 April 2010\\namendin...</td>\n",
       "      <td>BESLUIT VAN DE COMMISSIE\\nvan 30 april 2010\\nt...</td>\n",
       "      <td>[12, 0, 6]</td>\n",
       "      <td>12</td>\n",
       "    </tr>\n",
       "    <tr>\n",
       "      <th>64997</th>\n",
       "      <td>32010D0177</td>\n",
       "      <td>COMMISSION DECISION\\nof 23 March 2010\\namendin...</td>\n",
       "      <td>BESLUIT VAN DE COMMISSIE\\nvan 23 maart 2010\\nt...</td>\n",
       "      <td>[1, 4, 0, 3, 18]</td>\n",
       "      <td>1</td>\n",
       "    </tr>\n",
       "    <tr>\n",
       "      <th>64998</th>\n",
       "      <td>32012R0307</td>\n",
       "      <td>COMMISSION IMPLEMENTING REGULATION (EU) No 307...</td>\n",
       "      <td>UITVOERINGSVERORDENING (EU) Nr. 307/2012 VAN D...</td>\n",
       "      <td>[0, 3, 17, 15]</td>\n",
       "      <td>0</td>\n",
       "    </tr>\n",
       "    <tr>\n",
       "      <th>64999</th>\n",
       "      <td>32011R0327</td>\n",
       "      <td>COMMISSION REGULATION (EU) No 327/2011\\nof 30 ...</td>\n",
       "      <td>VERORDENING (EU) Nr. 327/2011 VAN DE COMMISSIE...</td>\n",
       "      <td>[1, 14, 20, 7, 3]</td>\n",
       "      <td>1</td>\n",
       "    </tr>\n",
       "  </tbody>\n",
       "</table>\n",
       "<p>65000 rows × 5 columns</p>\n",
       "</div>"
      ],
      "text/plain": [
       "         celex_id                                            text_en  \\\n",
       "0      32006D0213  COMMISSION DECISION\\nof 6 March 2006\\nestablis...   \n",
       "1      32003R1330  Commission Regulation (EC) No 1330/2003\\nof 25...   \n",
       "2      32003R1786  Council Regulation (EC) No 1786/2003\\nof 29 Se...   \n",
       "3      31985R2590  *****\\nCOMMISSION REGULATION (EEC) No 2590/85\\...   \n",
       "4      31993R1103  COMMISSION REGULATION (EEC) No 1103/93 of 30 A...   \n",
       "...           ...                                                ...   \n",
       "64995  32011D0151  COMMISSION DECISION\\nof 3 March 2011\\namending...   \n",
       "64996  32010D0256  COMMISSION DECISION\\nof 30 April 2010\\namendin...   \n",
       "64997  32010D0177  COMMISSION DECISION\\nof 23 March 2010\\namendin...   \n",
       "64998  32012R0307  COMMISSION IMPLEMENTING REGULATION (EU) No 307...   \n",
       "64999  32011R0327  COMMISSION REGULATION (EU) No 327/2011\\nof 30 ...   \n",
       "\n",
       "                                                 text_nl  \\\n",
       "0      BESCHIKKING VAN DE COMMISSIE\\nvan 6 maart 2006...   \n",
       "1      Verordening (EG) nr. 1330/2003 van de Commissi...   \n",
       "2      Verordening (EG) nr. 1786/2003 van de Raad\\nva...   \n",
       "3      *****\\nVERORDENING (EEG) Nr. 2590/85 VAN DE CO...   \n",
       "4      VERORDENING (EEG) Nr. 1103/93 VAN DE COMMISSIE...   \n",
       "...                                                  ...   \n",
       "64995  BESLUIT VAN DE COMMISSIE\\nvan 3 maart 2011\\nto...   \n",
       "64996  BESLUIT VAN DE COMMISSIE\\nvan 30 april 2010\\nt...   \n",
       "64997  BESLUIT VAN DE COMMISSIE\\nvan 23 maart 2010\\nt...   \n",
       "64998  UITVOERINGSVERORDENING (EU) Nr. 307/2012 VAN D...   \n",
       "64999  VERORDENING (EU) Nr. 327/2011 VAN DE COMMISSIE...   \n",
       "\n",
       "                      labels  first_label  \n",
       "0           [1, 20, 7, 3, 0]            1  \n",
       "1                    [2, 17]            2  \n",
       "2                 [3, 19, 6]            3  \n",
       "3            [12, 17, 19, 6]           12  \n",
       "4              [18, 3, 4, 1]           18  \n",
       "...                      ...          ...  \n",
       "64995  [4, 11, 5, 0, 12, 15]            4  \n",
       "64996             [12, 0, 6]           12  \n",
       "64997       [1, 4, 0, 3, 18]            1  \n",
       "64998         [0, 3, 17, 15]            0  \n",
       "64999      [1, 14, 20, 7, 3]            1  \n",
       "\n",
       "[65000 rows x 5 columns]"
      ]
     },
     "execution_count": 3,
     "metadata": {},
     "output_type": "execute_result"
    }
   ],
   "source": [
    "df1"
   ]
  },
  {
   "cell_type": "code",
   "execution_count": null,
   "metadata": {},
   "outputs": [
    {
     "name": "stdout",
     "output_type": "stream",
     "text": [
      "Mean document length: 1197.8520307692309\n",
      "Median document length: 455.0\n"
     ]
    }
   ],
   "source": [
    "# checking and visualising the variation in document length by making an extra column with the wordcounts of the English documents\n",
    "\n",
    "df1['doc_length_eng'] = df1['text_en'].str.split().str.len()  # word count\n",
    "\n",
    "print(f'Mean document length: {df1['doc_length_eng'].mean()}')\n",
    "print(f'Median document length: {df1['doc_length_eng'].median()}')"
   ]
  },
  {
   "cell_type": "code",
   "execution_count": null,
   "metadata": {},
   "outputs": [
    {
     "data": {
      "image/png": "[encoded data removed]",
      "text/plain": [
       "<Figure size 1000x600 with 1 Axes>"
      ]
     },
     "metadata": {},
     "output_type": "display_data"
    }
   ],
   "source": [
    "import matplotlib.pyplot as plt\n",
    "import seaborn as sns\n",
    "\n",
    "plt.figure(figsize=(10, 6))\n",
    "sns.boxplot(x=df1['doc_length_eng'])\n",
    "plt.show()"
   ]
  },
  {
   "cell_type": "code",
   "execution_count": 6,
   "metadata": {},
   "outputs": [
    {
     "name": "stdout",
     "output_type": "stream",
     "text": [
      "The upper bound is: 1746.5 words\n",
      "original number of documents: 65000\n",
      "number of documents without outliers: 56825\n"
     ]
    }
   ],
   "source": [
    "# calculate interquartile range and remove outliers\n",
    "\n",
    "import numpy as np\n",
    "\n",
    "Q1 = df1['doc_length_eng'].quantile(0.25)\n",
    "Q3 = df1['doc_length_eng'].quantile(0.75)\n",
    "IQR = Q3 - Q1\n",
    "\n",
    "upper_bound = Q3 + 1.5 * IQR\n",
    "\n",
    "print(f'The upper bound is: {upper_bound} words')\n",
    "\n",
    "df1_filtered = df1[df1['doc_length_eng'] <= upper_bound]\n",
    "\n",
    "print(f\"original number of documents: {len(df1)}\")\n",
    "print(f\"number of documents without outliers: {len(df1_filtered)}\") # I lost 13% of the original data. Is that too much?"
   ]
  },
  {
   "cell_type": "code",
   "execution_count": 7,
   "metadata": {},
   "outputs": [
    {
     "name": "stdout",
     "output_type": "stream",
     "text": [
      "Mean document length: 532.6521425428948\n",
      "Median document length: 414.0\n"
     ]
    },
    {
     "data": {
      "image/png": "[encoded data removed]",
      "text/plain": [
       "<Figure size 1000x600 with 1 Axes>"
      ]
     },
     "metadata": {},
     "output_type": "display_data"
    }
   ],
   "source": [
    "print(f'Mean document length: {df1_filtered['doc_length_eng'].mean()}')\n",
    "print(f'Median document length: {df1_filtered['doc_length_eng'].median()}')\n",
    "\n",
    "# mean and median are a lot closer\n",
    "\n",
    "plt.figure(figsize=(10, 6))\n",
    "sns.boxplot(x=df1_filtered['doc_length_eng'])\n",
    "plt.show()"
   ]
  },
  {
   "cell_type": "code",
   "execution_count": null,
   "metadata": {},
   "outputs": [],
   "source": [
    "# we take a sample from the data to evaluate BM25 on \n",
    "# to ensure diversity we keep the distribution of the EUROVOC labels we stored in first_label\n",
    "\n",
    "from sklearn.model_selection import StratifiedShuffleSplit\n",
    "\n",
    "splitter = StratifiedShuffleSplit(n_splits=1, test_size=1500)\n",
    "\n",
    "# The .split() method returns indices for the training and test sets. Because we set n_splits=1, it only runs once. \n",
    "\n",
    "# We only care about the test set (our sample of 1500 rows).\n",
    "# so we ignore train_idx and use the sample indices to select the stratified sample from the original data.\n",
    "# .copy() so we do not modify the original DataFrame\n",
    "for train_idx, sample_idx in splitter.split(df1_filtered, df1_filtered[\"first_label\"]):\n",
    "    stratified_sample_df = df1_filtered.iloc[sample_idx].copy()"
   ]
  },
  {
   "cell_type": "code",
   "execution_count": 10,
   "metadata": {},
   "outputs": [],
   "source": [
    "# reset index so this will later align with series of formatted prompts\n",
    "\n",
    "stratified_sample_df = stratified_sample_df.reset_index(drop=True)"
   ]
  },
  {
   "cell_type": "code",
   "execution_count": null,
   "metadata": {},
   "outputs": [],
   "source": [
    "# save as csv file\n",
    "\n",
    "stratified_sample_df.to_csv('data/stratified_sample.csv', index=False)\n",
    "\n",
    "df1_filtered.to_csv('data/corpus_without_outliers.csv', index=False)"
   ]
  }
 ],
 "metadata": {
  "kernelspec": {
   "display_name": "base",
   "language": "python",
   "name": "python3"
  },
  "language_info": {
   "codemirror_mode": {
    "name": "ipython",
    "version": 3
   },
   "file_extension": ".py",
   "mimetype": "text/x-python",
   "name": "python",
   "nbconvert_exporter": "python",
   "pygments_lexer": "ipython3",
   "version": "3.12.2"
  }
 },
 "nbformat": 4,
 "nbformat_minor": 2
}
